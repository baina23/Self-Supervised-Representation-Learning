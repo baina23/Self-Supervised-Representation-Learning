{
 "cells": [
  {
   "cell_type": "code",
   "execution_count": null,
   "metadata": {},
   "outputs": [
    {
     "name": "stdout",
     "output_type": "stream",
     "text": [
      "Launching experiment: ./config/CIFAR10_RotNet_NIN4blocks.py\n",
      "Loading experiment CIFAR10_RotNet_NIN4blocks from file: ./config/CIFAR10_RotNet_NIN4blocks.py\n",
      "Generated logs, snapshots, and model files will be stored on ./experiments/CIFAR10_RotNet_NIN4blocks\n",
      "Files already downloaded and verified\n",
      "Files already downloaded and verified\n"
     ]
    },
    {
     "name": "stderr",
     "output_type": "stream",
     "text": [
      "2021-04-11 02:03:23,640 - algorithms.Algorithm - INFO   - Algorithm options {'data_train_opt': {'batch_size': 128, 'unsupervised': True, 'epoch_size': None, 'random_sized_crop': False, 'dataset_name': 'cifar10', 'split': 'train'}, 'data_test_opt': {'batch_size': 128, 'unsupervised': True, 'epoch_size': None, 'random_sized_crop': False, 'dataset_name': 'cifar10', 'split': 'test'}, 'max_num_epochs': 200, 'networks': {'model': {'def_file': 'architectures/NetworkInNetwork.py', 'pretrained': None, 'opt': {'num_classes': 4, 'num_stages': 4, 'use_avg_on_conv3': False}, 'optim_params': {'optim_type': 'sgd', 'lr': 0.1, 'momentum': 0.9, 'weight_decay': 0.0005, 'nesterov': True, 'LUT_lr': [(60, 0.1), (120, 0.02), (160, 0.004), (200, 0.0008)]}}}, 'criterions': {'loss': {'ctype': 'CrossEntropyLoss', 'opt': None}}, 'algorithm_type': 'ClassificationModel', 'exp_dir': './experiments/CIFAR10_RotNet_NIN4blocks', 'disp_step': 50}\n",
      "2021-04-11 02:03:23,642 - algorithms.Algorithm - INFO   - Set network model\n",
      "2021-04-11 02:03:23,644 - algorithms.Algorithm - INFO   - ==> Initiliaze network model from file architectures/NetworkInNetwork.py with opts: {'num_classes': 4, 'num_stages': 4, 'use_avg_on_conv3': False}\n",
      "2021-04-11 02:03:23,658 - algorithms.Algorithm - INFO   - Initialize criterion[loss]: CrossEntropyLoss with options: None\n",
      "2021-04-11 02:03:25,668 - algorithms.Algorithm - INFO   - Initialize optimizer: sgd with params: {'optim_type': 'sgd', 'lr': 0.1, 'momentum': 0.9, 'weight_decay': 0.0005, 'nesterov': True, 'LUT_lr': [(60, 0.1), (120, 0.02), (160, 0.004), (200, 0.0008)]} for netwotk: model\n",
      "2021-04-11 02:03:25,671 - algorithms.Algorithm - INFO   - Training epoch [  1 / 200]\n",
      "2021-04-11 02:03:25,672 - algorithms.Algorithm - INFO   - ==> Set to model optimizer lr = 0.1000000000\n",
      "2021-04-11 02:03:25,673 - algorithms.Algorithm - INFO   - Training: CIFAR10_RotNet_NIN4blocks\n",
      "  3%|▎         | 12/391 [00:03<01:09,  5.42it/s]"
     ]
    }
   ],
   "source": [
    "from __future__ import print_function\n",
    "import argparse\n",
    "import os\n",
    "import imp\n",
    "import algorithms as alg\n",
    "from dataloader import DataLoader, GenericDataset\n",
    "\n",
    "\n",
    "exp = 'CIFAR10_RotNet_NIN4blocks'\n",
    "num_workers = 8\n",
    "cuda = True\n",
    "evaluate = False\n",
    "checkpoint = 0\n",
    "disp_step = 50\n",
    "batch_size = 128\n",
    "learning_rate = 0.1 \n",
    "exp_name = 'RoNet_lr0.1_bs128'\n",
    "\n",
    "exp_config_file = os.path.join('.','config',exp+'.py')\n",
    "\n",
    "# to adjust the learning rate and batch size, please go to config/CIFAR10_ConvClassifier_on_RotNet_NIN4blocks_Conv2_feats.py\n",
    "\n",
    "\n",
    "# if args_opt.semi == -1:\n",
    "exp_directory = os.path.join('.','experiments',exp)\n",
    "# else:\n",
    "#    assert(args_opt.semi>0)\n",
    "#    exp_directory = os.path.join('.','experiments/unsupervised',args_opt.exp+'_semi'+str(args_opt.semi))\n",
    "\n",
    "# Load the configuration params of the experiment\n",
    "print('Launching experiment: %s' % exp_config_file)\n",
    "config = imp.load_source(\"\",exp_config_file).config\n",
    "config['exp_dir'] = exp_directory # the place where logs, models, and other stuff will be stored\n",
    "print(\"Loading experiment %s from file: %s\" % (exp, exp_config_file))\n",
    "print(\"Generated logs, snapshots, and model files will be stored on %s\" % (config['exp_dir']))\n",
    "\n",
    "# Set train and test datasets and the corresponding data loaders\n",
    "data_train_opt = config['data_train_opt']\n",
    "data_test_opt = config['data_test_opt']\n",
    "num_imgs_per_cat = data_train_opt['num_imgs_per_cat'] if ('num_imgs_per_cat' in data_train_opt) else None\n",
    "\n",
    "\n",
    "\n",
    "dataset_train = GenericDataset(\n",
    "    dataset_name=data_train_opt['dataset_name'],\n",
    "    split=data_train_opt['split'],\n",
    "    random_sized_crop=data_train_opt['random_sized_crop'],\n",
    "    num_imgs_per_cat=num_imgs_per_cat)\n",
    "dataset_test = GenericDataset(\n",
    "    dataset_name=data_test_opt['dataset_name'],\n",
    "    split=data_test_opt['split'],\n",
    "    random_sized_crop=data_test_opt['random_sized_crop'])\n",
    "\n",
    "dloader_train = DataLoader(\n",
    "    dataset=dataset_train,\n",
    "    batch_size=data_train_opt['batch_size'],\n",
    "    unsupervised=data_train_opt['unsupervised'],\n",
    "    epoch_size=data_train_opt['epoch_size'],\n",
    "    num_workers=num_workers,\n",
    "    shuffle=True)\n",
    "\n",
    "dloader_test = DataLoader(\n",
    "    dataset=dataset_test,\n",
    "    batch_size=data_test_opt['batch_size'],\n",
    "    unsupervised=data_test_opt['unsupervised'],\n",
    "    epoch_size=data_test_opt['epoch_size'],\n",
    "    num_workers=num_workers,\n",
    "    shuffle=False)\n",
    "\n",
    "config['disp_step'] = disp_step\n",
    "algorithm = getattr(alg, config['algorithm_type'])(config)\n",
    "if cuda: # enable cuda\n",
    "    algorithm.load_to_gpu()\n",
    "if checkpoint > 0: # load checkpoint\n",
    "    algorithm.load_checkpoint(checkpoint, train= (not evaluate))\n",
    "\n",
    "if not evaluate: # train the algorithm\n",
    "    algorithm.solve(dloader_train, dloader_test, exp_name=exp_name)\n",
    "else:\n",
    "    algorithm.evaluate(dloader_test) # evaluate the algorithm\n"
   ]
  },
  {
   "cell_type": "code",
   "execution_count": null,
   "metadata": {},
   "outputs": [],
   "source": []
  }
 ],
 "metadata": {
  "kernelspec": {
   "display_name": "Python 3",
   "language": "python",
   "name": "python3"
  },
  "language_info": {
   "codemirror_mode": {
    "name": "ipython",
    "version": 3
   },
   "file_extension": ".py",
   "mimetype": "text/x-python",
   "name": "python",
   "nbconvert_exporter": "python",
   "pygments_lexer": "ipython3",
   "version": "3.7.6"
  }
 },
 "nbformat": 4,
 "nbformat_minor": 5
}
